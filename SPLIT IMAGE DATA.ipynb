{
 "cells": [
  {
   "cell_type": "code",
   "execution_count": 6,
   "id": "9803a67a",
   "metadata": {},
   "outputs": [],
   "source": [
    "import os\n",
    "import shutil\n",
    "import random\n",
    "\n",
    "# Define the paths to your original dataset and the target directories\n",
    "original_data_dir = \"C:\\\\Users\\ss\\Desktop\\m.sc(dsa)\\CV_project\\COVID 19\"\n",
    "train_dir = \"C:\\\\Users\\ss\\Desktop\\m.sc(dsa)\\CV_project\\TRAIN\"\n",
    "test_dir = \"C:\\\\Users\\ss\\Desktop\\m.sc(dsa)\\CV_project\\TEST\"\n",
    "\n",
    "# Define the split ratios\n",
    "train_ratio = 0.7  # 70% for training\n",
    "test_ratio = 0.3  # 30% for testing\n",
    "\n",
    "# List of class folders (assuming subdirectories represent classes)\n",
    "class_folders = os.listdir(original_data_dir)\n",
    "\n",
    "\n",
    "# Split the data into the training, validation, and test sets\n",
    "for folder in class_folders:\n",
    "    class_images = os.listdir(os.path.join(original_data_dir, folder))\n",
    "    random.shuffle(class_images)\n",
    "    \n",
    "    num_images = len(class_images)\n",
    "    num_train = int(train_ratio * num_images)\n",
    "\n",
    "    train_images = class_images[:num_train]\n",
    "    test_images = class_images[num_train:]\n",
    "\n",
    "    for image in train_images:\n",
    "        source = os.path.join(original_data_dir, folder, image)\n",
    "        destination = os.path.join(train_dir, folder, image)\n",
    "        shutil.copy(source, destination)\n",
    "\n",
    "    for image in test_images:\n",
    "        source = os.path.join(original_data_dir, folder, image)\n",
    "        destination = os.path.join(test_dir, folder, image)\n",
    "        shutil.copy(source, destination)\n"
   ]
  }
 ],
 "metadata": {
  "kernelspec": {
   "display_name": "Python 3 (ipykernel)",
   "language": "python",
   "name": "python3"
  },
  "language_info": {
   "codemirror_mode": {
    "name": "ipython",
    "version": 3
   },
   "file_extension": ".py",
   "mimetype": "text/x-python",
   "name": "python",
   "nbconvert_exporter": "python",
   "pygments_lexer": "ipython3",
   "version": "3.9.12"
  }
 },
 "nbformat": 4,
 "nbformat_minor": 5
}
